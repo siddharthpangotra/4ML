{
 "cells": [
  {
   "cell_type": "code",
   "execution_count": 1,
   "metadata": {},
   "outputs": [
    {
     "name": "stdout",
     "output_type": "stream",
     "text": [
      "zsh:1: /usr/local/bin/pip: bad interpreter: /System/Library/Frameworks/Python.framework/Versions/2.7/Resources/Python.app/Contents/MacOS/Python: no such file or directory\n",
      "Collecting tensorflow\n",
      "  Downloading tensorflow-2.16.2-cp311-cp311-macosx_10_15_x86_64.whl.metadata (4.1 kB)\n",
      "Collecting absl-py>=1.0.0 (from tensorflow)\n",
      "  Downloading absl_py-2.1.0-py3-none-any.whl.metadata (2.3 kB)\n",
      "Collecting astunparse>=1.6.0 (from tensorflow)\n",
      "  Downloading astunparse-1.6.3-py2.py3-none-any.whl.metadata (4.4 kB)\n",
      "Collecting flatbuffers>=23.5.26 (from tensorflow)\n",
      "  Downloading flatbuffers-24.3.25-py2.py3-none-any.whl.metadata (850 bytes)\n",
      "Collecting gast!=0.5.0,!=0.5.1,!=0.5.2,>=0.2.1 (from tensorflow)\n",
      "  Downloading gast-0.6.0-py3-none-any.whl.metadata (1.3 kB)\n",
      "Collecting google-pasta>=0.1.1 (from tensorflow)\n",
      "  Downloading google_pasta-0.2.0-py3-none-any.whl.metadata (814 bytes)\n",
      "Collecting h5py>=3.10.0 (from tensorflow)\n",
      "  Downloading h5py-3.11.0-cp311-cp311-macosx_10_9_x86_64.whl.metadata (2.5 kB)\n",
      "Collecting libclang>=13.0.0 (from tensorflow)\n",
      "  Downloading libclang-18.1.1-py2.py3-none-macosx_10_9_x86_64.whl.metadata (5.2 kB)\n",
      "Collecting ml-dtypes~=0.3.1 (from tensorflow)\n",
      "  Downloading ml_dtypes-0.3.2-cp311-cp311-macosx_10_9_universal2.whl.metadata (20 kB)\n",
      "Collecting opt-einsum>=2.3.2 (from tensorflow)\n",
      "  Downloading opt_einsum-3.3.0-py3-none-any.whl.metadata (6.5 kB)\n",
      "Requirement already satisfied: packaging in /Users/siddharthpangotra/anaconda3/lib/python3.11/site-packages (from tensorflow) (23.1)\n",
      "Requirement already satisfied: protobuf!=4.21.0,!=4.21.1,!=4.21.2,!=4.21.3,!=4.21.4,!=4.21.5,<5.0.0dev,>=3.20.3 in /Users/siddharthpangotra/anaconda3/lib/python3.11/site-packages (from tensorflow) (4.25.3)\n",
      "Requirement already satisfied: requests<3,>=2.21.0 in /Users/siddharthpangotra/anaconda3/lib/python3.11/site-packages (from tensorflow) (2.31.0)\n",
      "Requirement already satisfied: setuptools in /Users/siddharthpangotra/anaconda3/lib/python3.11/site-packages (from tensorflow) (68.0.0)\n",
      "Requirement already satisfied: six>=1.12.0 in /Users/siddharthpangotra/anaconda3/lib/python3.11/site-packages (from tensorflow) (1.16.0)\n",
      "Collecting termcolor>=1.1.0 (from tensorflow)\n",
      "  Downloading termcolor-2.4.0-py3-none-any.whl.metadata (6.1 kB)\n",
      "Requirement already satisfied: typing-extensions>=3.6.6 in /Users/siddharthpangotra/anaconda3/lib/python3.11/site-packages (from tensorflow) (4.7.1)\n",
      "Requirement already satisfied: wrapt>=1.11.0 in /Users/siddharthpangotra/anaconda3/lib/python3.11/site-packages (from tensorflow) (1.14.1)\n",
      "Collecting grpcio<2.0,>=1.24.3 (from tensorflow)\n",
      "  Downloading grpcio-1.65.4-cp311-cp311-macosx_10_9_universal2.whl.metadata (3.3 kB)\n",
      "Collecting tensorboard<2.17,>=2.16 (from tensorflow)\n",
      "  Downloading tensorboard-2.16.2-py3-none-any.whl.metadata (1.6 kB)\n",
      "Collecting keras>=3.0.0 (from tensorflow)\n",
      "  Downloading keras-3.5.0-py3-none-any.whl.metadata (5.8 kB)\n",
      "Collecting tensorflow-io-gcs-filesystem>=0.23.1 (from tensorflow)\n",
      "  Downloading tensorflow_io_gcs_filesystem-0.37.1-cp311-cp311-macosx_10_14_x86_64.whl.metadata (14 kB)\n",
      "Requirement already satisfied: numpy<2.0.0,>=1.23.5 in /Users/siddharthpangotra/anaconda3/lib/python3.11/site-packages (from tensorflow) (1.24.3)\n",
      "Requirement already satisfied: wheel<1.0,>=0.23.0 in /Users/siddharthpangotra/anaconda3/lib/python3.11/site-packages (from astunparse>=1.6.0->tensorflow) (0.38.4)\n",
      "Requirement already satisfied: rich in /Users/siddharthpangotra/anaconda3/lib/python3.11/site-packages (from keras>=3.0.0->tensorflow) (13.7.1)\n",
      "Collecting namex (from keras>=3.0.0->tensorflow)\n",
      "  Downloading namex-0.0.8-py3-none-any.whl.metadata (246 bytes)\n",
      "Collecting optree (from keras>=3.0.0->tensorflow)\n",
      "  Downloading optree-0.12.1-cp311-cp311-macosx_10_9_universal2.whl.metadata (47 kB)\n",
      "\u001b[2K     \u001b[90m━━━━━━━━━━━━━━━━━━━━━━━━━━━━━━━━━━━━━━━━\u001b[0m \u001b[32m47.8/47.8 kB\u001b[0m \u001b[31m1.1 MB/s\u001b[0m eta \u001b[36m0:00:00\u001b[0m\n",
      "\u001b[?25hRequirement already satisfied: charset-normalizer<4,>=2 in /Users/siddharthpangotra/anaconda3/lib/python3.11/site-packages (from requests<3,>=2.21.0->tensorflow) (2.0.4)\n",
      "Requirement already satisfied: idna<4,>=2.5 in /Users/siddharthpangotra/anaconda3/lib/python3.11/site-packages (from requests<3,>=2.21.0->tensorflow) (3.4)\n",
      "Requirement already satisfied: urllib3<3,>=1.21.1 in /Users/siddharthpangotra/anaconda3/lib/python3.11/site-packages (from requests<3,>=2.21.0->tensorflow) (1.26.16)\n",
      "Requirement already satisfied: certifi>=2017.4.17 in /Users/siddharthpangotra/anaconda3/lib/python3.11/site-packages (from requests<3,>=2.21.0->tensorflow) (2024.2.2)\n",
      "Requirement already satisfied: markdown>=2.6.8 in /Users/siddharthpangotra/anaconda3/lib/python3.11/site-packages (from tensorboard<2.17,>=2.16->tensorflow) (3.4.1)\n",
      "Collecting tensorboard-data-server<0.8.0,>=0.7.0 (from tensorboard<2.17,>=2.16->tensorflow)\n",
      "  Downloading tensorboard_data_server-0.7.2-py3-none-macosx_10_9_x86_64.whl.metadata (1.1 kB)\n",
      "Requirement already satisfied: werkzeug>=1.0.1 in /Users/siddharthpangotra/anaconda3/lib/python3.11/site-packages (from tensorboard<2.17,>=2.16->tensorflow) (2.2.3)\n",
      "Requirement already satisfied: MarkupSafe>=2.1.1 in /Users/siddharthpangotra/anaconda3/lib/python3.11/site-packages (from werkzeug>=1.0.1->tensorboard<2.17,>=2.16->tensorflow) (2.1.1)\n",
      "Requirement already satisfied: markdown-it-py>=2.2.0 in /Users/siddharthpangotra/anaconda3/lib/python3.11/site-packages (from rich->keras>=3.0.0->tensorflow) (2.2.0)\n",
      "Requirement already satisfied: pygments<3.0.0,>=2.13.0 in /Users/siddharthpangotra/anaconda3/lib/python3.11/site-packages (from rich->keras>=3.0.0->tensorflow) (2.15.1)\n",
      "Requirement already satisfied: mdurl~=0.1 in /Users/siddharthpangotra/anaconda3/lib/python3.11/site-packages (from markdown-it-py>=2.2.0->rich->keras>=3.0.0->tensorflow) (0.1.0)\n",
      "Downloading tensorflow-2.16.2-cp311-cp311-macosx_10_15_x86_64.whl (259.6 MB)\n",
      "\u001b[2K   \u001b[90m━━━━━━━━━━━━━━━━━━━━━━━━━━━━━━━━━━━━━━━━\u001b[0m \u001b[32m259.6/259.6 MB\u001b[0m \u001b[31m2.4 MB/s\u001b[0m eta \u001b[36m0:00:00\u001b[0m:00:01\u001b[0m00:01\u001b[0m\n",
      "\u001b[?25hDownloading absl_py-2.1.0-py3-none-any.whl (133 kB)\n",
      "\u001b[2K   \u001b[90m━━━━━━━━━━━━━━━━━━━━━━━━━━━━━━━━━━━━━━━━\u001b[0m \u001b[32m133.7/133.7 kB\u001b[0m \u001b[31m2.1 MB/s\u001b[0m eta \u001b[36m0:00:00\u001b[0m:00:01\u001b[0m\n",
      "\u001b[?25hDownloading astunparse-1.6.3-py2.py3-none-any.whl (12 kB)\n",
      "Downloading flatbuffers-24.3.25-py2.py3-none-any.whl (26 kB)\n",
      "Downloading gast-0.6.0-py3-none-any.whl (21 kB)\n",
      "Downloading google_pasta-0.2.0-py3-none-any.whl (57 kB)\n",
      "\u001b[2K   \u001b[90m━━━━━━━━━━━━━━━━━━━━━━━━━━━━━━━━━━━━━━━━\u001b[0m \u001b[32m57.5/57.5 kB\u001b[0m \u001b[31m1.9 MB/s\u001b[0m eta \u001b[36m0:00:00\u001b[0m\n",
      "\u001b[?25hDownloading grpcio-1.65.4-cp311-cp311-macosx_10_9_universal2.whl (10.4 MB)\n",
      "\u001b[2K   \u001b[90m━━━━━━━━━━━━━━━━━━━━━━━━━━━━━━━━━━━━━━━━\u001b[0m \u001b[32m10.4/10.4 MB\u001b[0m \u001b[31m6.6 MB/s\u001b[0m eta \u001b[36m0:00:00\u001b[0m00:01\u001b[0m0:01\u001b[0mm\n",
      "\u001b[?25hDownloading h5py-3.11.0-cp311-cp311-macosx_10_9_x86_64.whl (3.5 MB)\n",
      "\u001b[2K   \u001b[90m━━━━━━━━━━━━━━━━━━━━━━━━━━━━━━━━━━━━━━━━\u001b[0m \u001b[32m3.5/3.5 MB\u001b[0m \u001b[31m8.2 MB/s\u001b[0m eta \u001b[36m0:00:00\u001b[0m00:01\u001b[0m00:01\u001b[0mm\n",
      "\u001b[?25hDownloading keras-3.5.0-py3-none-any.whl (1.1 MB)\n",
      "\u001b[2K   \u001b[90m━━━━━━━━━━━━━━━━━━━━━━━━━━━━━━━━━━━━━━━━\u001b[0m \u001b[32m1.1/1.1 MB\u001b[0m \u001b[31m7.9 MB/s\u001b[0m eta \u001b[36m0:00:00\u001b[0mta \u001b[36m0:00:01\u001b[0m\n",
      "\u001b[?25hDownloading libclang-18.1.1-py2.py3-none-macosx_10_9_x86_64.whl (26.5 MB)\n",
      "\u001b[2K   \u001b[90m━━━━━━━━━━━━━━━━━━━━━━━━━━━━━━━━━━━━━━━━\u001b[0m \u001b[32m26.5/26.5 MB\u001b[0m \u001b[31m8.4 MB/s\u001b[0m eta \u001b[36m0:00:00\u001b[0m00:01\u001b[0m00:01\u001b[0mm\n",
      "\u001b[?25hDownloading ml_dtypes-0.3.2-cp311-cp311-macosx_10_9_universal2.whl (389 kB)\n",
      "\u001b[2K   \u001b[90m━━━━━━━━━━━━━━━━━━━━━━━━━━━━━━━━━━━━━━━━\u001b[0m \u001b[32m389.8/389.8 kB\u001b[0m \u001b[31m6.9 MB/s\u001b[0m eta \u001b[36m0:00:00\u001b[0m:00:01\u001b[0m\n",
      "\u001b[?25hDownloading opt_einsum-3.3.0-py3-none-any.whl (65 kB)\n",
      "\u001b[2K   \u001b[90m━━━━━━━━━━━━━━━━━━━━━━━━━━━━━━━━━━━━━━━━\u001b[0m \u001b[32m65.5/65.5 kB\u001b[0m \u001b[31m2.0 MB/s\u001b[0m eta \u001b[36m0:00:00\u001b[0m\n",
      "\u001b[?25hDownloading tensorboard-2.16.2-py3-none-any.whl (5.5 MB)\n",
      "\u001b[2K   \u001b[90m━━━━━━━━━━━━━━━━━━━━━━━━━━━━━━━━━━━━━━━━\u001b[0m \u001b[32m5.5/5.5 MB\u001b[0m \u001b[31m6.9 MB/s\u001b[0m eta \u001b[36m0:00:00\u001b[0m00:01\u001b[0m00:01\u001b[0mm\n",
      "\u001b[?25hDownloading tensorflow_io_gcs_filesystem-0.37.1-cp311-cp311-macosx_10_14_x86_64.whl (2.5 MB)\n",
      "\u001b[2K   \u001b[90m━━━━━━━━━━━━━━━━━━━━━━━━━━━━━━━━━━━━━━━━\u001b[0m \u001b[32m2.5/2.5 MB\u001b[0m \u001b[31m6.4 MB/s\u001b[0m eta \u001b[36m0:00:00\u001b[0m00:01\u001b[0m00:01\u001b[0mm\n",
      "\u001b[?25hDownloading termcolor-2.4.0-py3-none-any.whl (7.7 kB)\n",
      "Downloading tensorboard_data_server-0.7.2-py3-none-macosx_10_9_x86_64.whl (4.8 MB)\n",
      "\u001b[2K   \u001b[90m━━━━━━━━━━━━━━━━━━━━━━━━━━━━━━━━━━━━━━━━\u001b[0m \u001b[32m4.8/4.8 MB\u001b[0m \u001b[31m10.0 MB/s\u001b[0m eta \u001b[36m0:00:00\u001b[0m00:01\u001b[0m00:01\u001b[0m\n",
      "\u001b[?25hDownloading namex-0.0.8-py3-none-any.whl (5.8 kB)\n",
      "Downloading optree-0.12.1-cp311-cp311-macosx_10_9_universal2.whl (523 kB)\n",
      "\u001b[2K   \u001b[90m━━━━━━━━━━━━━━━━━━━━━━━━━━━━━━━━━━━━━━━━\u001b[0m \u001b[32m523.8/523.8 kB\u001b[0m \u001b[31m6.8 MB/s\u001b[0m eta \u001b[36m0:00:00\u001b[0m:00:01\u001b[0m00:01\u001b[0m\n",
      "\u001b[?25hInstalling collected packages: namex, libclang, flatbuffers, termcolor, tensorflow-io-gcs-filesystem, tensorboard-data-server, optree, opt-einsum, ml-dtypes, h5py, grpcio, google-pasta, gast, astunparse, absl-py, tensorboard, keras, tensorflow\n",
      "  Attempting uninstall: h5py\n",
      "    Found existing installation: h5py 3.9.0\n",
      "    Uninstalling h5py-3.9.0:\n",
      "      Successfully uninstalled h5py-3.9.0\n",
      "Successfully installed absl-py-2.1.0 astunparse-1.6.3 flatbuffers-24.3.25 gast-0.6.0 google-pasta-0.2.0 grpcio-1.65.4 h5py-3.11.0 keras-3.5.0 libclang-18.1.1 ml-dtypes-0.3.2 namex-0.0.8 opt-einsum-3.3.0 optree-0.12.1 tensorboard-2.16.2 tensorboard-data-server-0.7.2 tensorflow-2.16.2 tensorflow-io-gcs-filesystem-0.37.1 termcolor-2.4.0\n",
      "\n",
      "\u001b[1m[\u001b[0m\u001b[34;49mnotice\u001b[0m\u001b[1;39;49m]\u001b[0m\u001b[39;49m A new release of pip is available: \u001b[0m\u001b[31;49m24.0\u001b[0m\u001b[39;49m -> \u001b[0m\u001b[32;49m24.2\u001b[0m\n",
      "\u001b[1m[\u001b[0m\u001b[34;49mnotice\u001b[0m\u001b[1;39;49m]\u001b[0m\u001b[39;49m To update, run: \u001b[0m\u001b[32;49mpip3.11 install --upgrade pip\u001b[0m\n"
     ]
    }
   ],
   "source": [
    "!pip install tensorflow"
   ]
  },
  {
   "cell_type": "code",
   "execution_count": 15,
   "metadata": {},
   "outputs": [],
   "source": [
    "import tensorflow as tf\n",
    "from tensorflow import keras\n",
    "import matplotlib.pyplot as plt\n",
    "%matplotlib inline\n",
    "import numpy as np\n",
    "import pandas as pd"
   ]
  },
  {
   "cell_type": "code",
   "execution_count": 2,
   "metadata": {},
   "outputs": [
    {
     "name": "stdout",
     "output_type": "stream",
     "text": [
      "Downloading data from https://storage.googleapis.com/tensorflow/tf-keras-datasets/mnist.npz\n",
      "\u001b[1m11490434/11490434\u001b[0m \u001b[32m━━━━━━━━━━━━━━━━━━━━\u001b[0m\u001b[37m\u001b[0m \u001b[1m2s\u001b[0m 0us/step\n"
     ]
    }
   ],
   "source": [
    "(X_train ,y_train),(X_test,y_test)=keras.datasets.mnist.load_data()"
   ]
  },
  {
   "cell_type": "code",
   "execution_count": 9,
   "metadata": {},
   "outputs": [
    {
     "data": {
      "text/plain": [
       "10000"
      ]
     },
     "execution_count": 9,
     "metadata": {},
     "output_type": "execute_result"
    }
   ],
   "source": [
    "len(y_test)"
   ]
  },
  {
   "cell_type": "code",
   "execution_count": 10,
   "metadata": {},
   "outputs": [
    {
     "data": {
      "text/plain": [
       "array([[  0,   0,   0,   0,   0,   0,   0,   0,   0,   0,   0,   0,   0,\n",
       "          0,   0,   0,   0,   0,   0,   0,   0,   0,   0,   0,   0,   0,\n",
       "          0,   0],\n",
       "       [  0,   0,   0,   0,   0,   0,   0,   0,   0,   0,   0,   0,   0,\n",
       "          0,   0,   0,   0,   0,   0,   0,   0,   0,   0,   0,   0,   0,\n",
       "          0,   0],\n",
       "       [  0,   0,   0,   0,   0,   0,   0,   0,   0,   0,   0,   0,   0,\n",
       "          0,   0,   0,   0,   0,   0,   0,   0,   0,   0,   0,   0,   0,\n",
       "          0,   0],\n",
       "       [  0,   0,   0,   0,   0,   0,   0,   0,   0,   0,   0,   0,   0,\n",
       "          0,   0,   0,   0,   0,   0,   0,   0,   0,   0,   0,   0,   0,\n",
       "          0,   0],\n",
       "       [  0,   0,   0,   0,   0,   0,   0,   0,   0,   0,   0,   0,   0,\n",
       "          0,   0,   0,   0,   0,   0,   0,   0,   0,   0,   0,   0,   0,\n",
       "          0,   0],\n",
       "       [  0,   0,   0,   0,   0,   0,   0,   0,   0,   0,   0,   0,   3,\n",
       "         18,  18,  18, 126, 136, 175,  26, 166, 255, 247, 127,   0,   0,\n",
       "          0,   0],\n",
       "       [  0,   0,   0,   0,   0,   0,   0,   0,  30,  36,  94, 154, 170,\n",
       "        253, 253, 253, 253, 253, 225, 172, 253, 242, 195,  64,   0,   0,\n",
       "          0,   0],\n",
       "       [  0,   0,   0,   0,   0,   0,   0,  49, 238, 253, 253, 253, 253,\n",
       "        253, 253, 253, 253, 251,  93,  82,  82,  56,  39,   0,   0,   0,\n",
       "          0,   0],\n",
       "       [  0,   0,   0,   0,   0,   0,   0,  18, 219, 253, 253, 253, 253,\n",
       "        253, 198, 182, 247, 241,   0,   0,   0,   0,   0,   0,   0,   0,\n",
       "          0,   0],\n",
       "       [  0,   0,   0,   0,   0,   0,   0,   0,  80, 156, 107, 253, 253,\n",
       "        205,  11,   0,  43, 154,   0,   0,   0,   0,   0,   0,   0,   0,\n",
       "          0,   0],\n",
       "       [  0,   0,   0,   0,   0,   0,   0,   0,   0,  14,   1, 154, 253,\n",
       "         90,   0,   0,   0,   0,   0,   0,   0,   0,   0,   0,   0,   0,\n",
       "          0,   0],\n",
       "       [  0,   0,   0,   0,   0,   0,   0,   0,   0,   0,   0, 139, 253,\n",
       "        190,   2,   0,   0,   0,   0,   0,   0,   0,   0,   0,   0,   0,\n",
       "          0,   0],\n",
       "       [  0,   0,   0,   0,   0,   0,   0,   0,   0,   0,   0,  11, 190,\n",
       "        253,  70,   0,   0,   0,   0,   0,   0,   0,   0,   0,   0,   0,\n",
       "          0,   0],\n",
       "       [  0,   0,   0,   0,   0,   0,   0,   0,   0,   0,   0,   0,  35,\n",
       "        241, 225, 160, 108,   1,   0,   0,   0,   0,   0,   0,   0,   0,\n",
       "          0,   0],\n",
       "       [  0,   0,   0,   0,   0,   0,   0,   0,   0,   0,   0,   0,   0,\n",
       "         81, 240, 253, 253, 119,  25,   0,   0,   0,   0,   0,   0,   0,\n",
       "          0,   0],\n",
       "       [  0,   0,   0,   0,   0,   0,   0,   0,   0,   0,   0,   0,   0,\n",
       "          0,  45, 186, 253, 253, 150,  27,   0,   0,   0,   0,   0,   0,\n",
       "          0,   0],\n",
       "       [  0,   0,   0,   0,   0,   0,   0,   0,   0,   0,   0,   0,   0,\n",
       "          0,   0,  16,  93, 252, 253, 187,   0,   0,   0,   0,   0,   0,\n",
       "          0,   0],\n",
       "       [  0,   0,   0,   0,   0,   0,   0,   0,   0,   0,   0,   0,   0,\n",
       "          0,   0,   0,   0, 249, 253, 249,  64,   0,   0,   0,   0,   0,\n",
       "          0,   0],\n",
       "       [  0,   0,   0,   0,   0,   0,   0,   0,   0,   0,   0,   0,   0,\n",
       "          0,  46, 130, 183, 253, 253, 207,   2,   0,   0,   0,   0,   0,\n",
       "          0,   0],\n",
       "       [  0,   0,   0,   0,   0,   0,   0,   0,   0,   0,   0,   0,  39,\n",
       "        148, 229, 253, 253, 253, 250, 182,   0,   0,   0,   0,   0,   0,\n",
       "          0,   0],\n",
       "       [  0,   0,   0,   0,   0,   0,   0,   0,   0,   0,  24, 114, 221,\n",
       "        253, 253, 253, 253, 201,  78,   0,   0,   0,   0,   0,   0,   0,\n",
       "          0,   0],\n",
       "       [  0,   0,   0,   0,   0,   0,   0,   0,  23,  66, 213, 253, 253,\n",
       "        253, 253, 198,  81,   2,   0,   0,   0,   0,   0,   0,   0,   0,\n",
       "          0,   0],\n",
       "       [  0,   0,   0,   0,   0,   0,  18, 171, 219, 253, 253, 253, 253,\n",
       "        195,  80,   9,   0,   0,   0,   0,   0,   0,   0,   0,   0,   0,\n",
       "          0,   0],\n",
       "       [  0,   0,   0,   0,  55, 172, 226, 253, 253, 253, 253, 244, 133,\n",
       "         11,   0,   0,   0,   0,   0,   0,   0,   0,   0,   0,   0,   0,\n",
       "          0,   0],\n",
       "       [  0,   0,   0,   0, 136, 253, 253, 253, 212, 135, 132,  16,   0,\n",
       "          0,   0,   0,   0,   0,   0,   0,   0,   0,   0,   0,   0,   0,\n",
       "          0,   0],\n",
       "       [  0,   0,   0,   0,   0,   0,   0,   0,   0,   0,   0,   0,   0,\n",
       "          0,   0,   0,   0,   0,   0,   0,   0,   0,   0,   0,   0,   0,\n",
       "          0,   0],\n",
       "       [  0,   0,   0,   0,   0,   0,   0,   0,   0,   0,   0,   0,   0,\n",
       "          0,   0,   0,   0,   0,   0,   0,   0,   0,   0,   0,   0,   0,\n",
       "          0,   0],\n",
       "       [  0,   0,   0,   0,   0,   0,   0,   0,   0,   0,   0,   0,   0,\n",
       "          0,   0,   0,   0,   0,   0,   0,   0,   0,   0,   0,   0,   0,\n",
       "          0,   0]], dtype=uint8)"
      ]
     },
     "execution_count": 10,
     "metadata": {},
     "output_type": "execute_result"
    }
   ],
   "source": [
    "X_train[0]"
   ]
  },
  {
   "cell_type": "code",
   "execution_count": 12,
   "metadata": {},
   "outputs": [
    {
     "data": {
      "text/plain": [
       "<matplotlib.image.AxesImage at 0x139a2eb90>"
      ]
     },
     "execution_count": 12,
     "metadata": {},
     "output_type": "execute_result"
    },
    {
     "data": {
      "image/png": "[encoded data removed]",
      "text/plain": [
       "<Figure size 480x480 with 1 Axes>"
      ]
     },
     "metadata": {},
     "output_type": "display_data"
    }
   ],
   "source": [
    "plt.matshow(X_train[10])"
   ]
  },
  {
   "cell_type": "code",
   "execution_count": 14,
   "metadata": {},
   "outputs": [
    {
     "data": {
      "text/plain": [
       "3"
      ]
     },
     "execution_count": 14,
     "metadata": {},
     "output_type": "execute_result"
    }
   ],
   "source": [
    "y_train[10]"
   ]
  },
  {
   "cell_type": "code",
   "execution_count": 21,
   "metadata": {},
   "outputs": [],
   "source": [
    "target_feature = pd.DataFrame(data= y_train, columns=['value'])"
   ]
  },
  {
   "cell_type": "code",
   "execution_count": 28,
   "metadata": {},
   "outputs": [
    {
     "data": {
      "text/plain": [
       "value\n",
       "5    5421\n",
       "4    5842\n",
       "8    5851\n",
       "6    5918\n",
       "0    5923\n",
       "9    5949\n",
       "2    5958\n",
       "3    6131\n",
       "7    6265\n",
       "1    6742\n",
       "Name: count, dtype: int64"
      ]
     },
     "execution_count": 28,
     "metadata": {},
     "output_type": "execute_result"
    }
   ],
   "source": [
    "target_feature['value'].value_counts(ascending=True)"
   ]
  },
  {
   "cell_type": "code",
   "execution_count": 52,
   "metadata": {},
   "outputs": [
    {
     "data": {
      "text/plain": [
       "(array([5923.,    0., 6742.,    0., 5958.,    0., 6131.,    0., 5842.,\n",
       "           0.,    0., 5421.,    0., 5918.,    0., 6265.,    0., 5851.,\n",
       "           0., 5949.]),\n",
       " array([0.  , 0.45, 0.9 , 1.35, 1.8 , 2.25, 2.7 , 3.15, 3.6 , 4.05, 4.5 ,\n",
       "        4.95, 5.4 , 5.85, 6.3 , 6.75, 7.2 , 7.65, 8.1 , 8.55, 9.  ]),\n",
       " <BarContainer object of 20 artists>)"
      ]
     },
     "execution_count": 52,
     "metadata": {},
     "output_type": "execute_result"
    },
    {
     "data": {
      "image/png": "[encoded data removed]",
      "text/plain": [
       "<Figure size 640x480 with 1 Axes>"
      ]
     },
     "metadata": {},
     "output_type": "display_data"
    }
   ],
   "source": [
    "plt.hist(x=target_feature['value'],bins=20,histtype='bar')"
   ]
  },
  {
   "cell_type": "markdown",
   "metadata": {},
   "source": [
    "## Flattening\n",
    "converting from matrix to vector "
   ]
  },
  {
   "cell_type": "code",
   "execution_count": 59,
   "metadata": {},
   "outputs": [
    {
     "data": {
      "text/plain": [
       "784"
      ]
     },
     "execution_count": 59,
     "metadata": {},
     "output_type": "execute_result"
    }
   ],
   "source": [
    "shape = X_train.shape # Original Shape\n"
   ]
  },
  {
   "cell_type": "code",
   "execution_count": 94,
   "metadata": {},
   "outputs": [],
   "source": [
    "X_train_flat = X_train.reshape(len(X_train),shape[1]*shape[2])\n",
    "X_test_flat = X_test.reshape(len(X_test),X_test.shape[1]*X_test.shape[2])\n",
    "X_train_flat = X_train_flat/X_train_flat.max()\n",
    "X_test_flat = X_test_flat/X_test_flat.max()"
   ]
  },
  {
   "cell_type": "code",
   "execution_count": 95,
   "metadata": {},
   "outputs": [
    {
     "data": {
      "text/plain": [
       "((60000, 784), (10000, 784))"
      ]
     },
     "execution_count": 95,
     "metadata": {},
     "output_type": "execute_result"
    }
   ],
   "source": [
    "\n",
    "X_train_flat.shape , X_test_flat.shape"
   ]
  },
  {
   "cell_type": "code",
   "execution_count": 99,
   "metadata": {},
   "outputs": [
    {
     "data": {
      "text/plain": [
       "(0.0, 1.0)"
      ]
     },
     "execution_count": 99,
     "metadata": {},
     "output_type": "execute_result"
    }
   ],
   "source": [
    "X_test_flat.min(), X_test_flat.max()"
   ]
  },
  {
   "cell_type": "code",
   "execution_count": 100,
   "metadata": {},
   "outputs": [
    {
     "name": "stderr",
     "output_type": "stream",
     "text": [
      "/Users/siddharthpangotra/anaconda3/lib/python3.11/site-packages/keras/src/layers/core/dense.py:87: UserWarning: Do not pass an `input_shape`/`input_dim` argument to a layer. When using Sequential models, prefer using an `Input(shape)` object as the first layer in the model instead.\n",
      "  super().__init__(activity_regularizer=activity_regularizer, **kwargs)\n"
     ]
    },
    {
     "name": "stdout",
     "output_type": "stream",
     "text": [
      "Epoch 1/5\n",
      "\u001b[1m1875/1875\u001b[0m \u001b[32m━━━━━━━━━━━━━━━━━━━━\u001b[0m\u001b[37m\u001b[0m \u001b[1m5s\u001b[0m 2ms/step - accuracy: 0.8077 - loss: 0.7208\n",
      "Epoch 2/5\n",
      "\u001b[1m1875/1875\u001b[0m \u001b[32m━━━━━━━━━━━━━━━━━━━━\u001b[0m\u001b[37m\u001b[0m \u001b[1m5s\u001b[0m 2ms/step - accuracy: 0.9126 - loss: 0.3151\n",
      "Epoch 3/5\n",
      "\u001b[1m1875/1875\u001b[0m \u001b[32m━━━━━━━━━━━━━━━━━━━━\u001b[0m\u001b[37m\u001b[0m \u001b[1m4s\u001b[0m 2ms/step - accuracy: 0.9223 - loss: 0.2804\n",
      "Epoch 4/5\n",
      "\u001b[1m1875/1875\u001b[0m \u001b[32m━━━━━━━━━━━━━━━━━━━━\u001b[0m\u001b[37m\u001b[0m \u001b[1m4s\u001b[0m 2ms/step - accuracy: 0.9248 - loss: 0.2679\n",
      "Epoch 5/5\n",
      "\u001b[1m1875/1875\u001b[0m \u001b[32m━━━━━━━━━━━━━━━━━━━━\u001b[0m\u001b[37m\u001b[0m \u001b[1m4s\u001b[0m 2ms/step - accuracy: 0.9245 - loss: 0.2689\n"
     ]
    },
    {
     "data": {
      "text/plain": [
       "<keras.src.callbacks.history.History at 0x13bb334d0>"
      ]
     },
     "execution_count": 100,
     "metadata": {},
     "output_type": "execute_result"
    }
   ],
   "source": [
    "model = keras.Sequential(\n",
    "     [\n",
    "          keras.layers.Dense(10,input_shape=(784,),activation='sigmoid')\n",
    "     ]\n",
    ")\n",
    "model.compile(\n",
    "     optimizer = 'adam',\n",
    "     loss = 'sparse_categorical_crossentropy',\n",
    "     metrics=['accuracy']\n",
    ")\n",
    "\n",
    "model.fit(X_train_flat,y_train,epochs =5)"
   ]
  },
  {
   "cell_type": "code",
   "execution_count": 128,
   "metadata": {},
   "outputs": [
    {
     "name": "stdout",
     "output_type": "stream",
     "text": [
      "\u001b[1m313/313\u001b[0m \u001b[32m━━━━━━━━━━━━━━━━━━━━\u001b[0m\u001b[37m\u001b[0m \u001b[1m1s\u001b[0m 2ms/step\n"
     ]
    }
   ],
   "source": [
    "y_pred = model.predict( X_test_flat)"
   ]
  },
  {
   "cell_type": "code",
   "execution_count": 130,
   "metadata": {},
   "outputs": [
    {
     "data": {
      "text/plain": [
       "280"
      ]
     },
     "execution_count": 130,
     "metadata": {},
     "output_type": "execute_result"
    }
   ],
   "source": []
  },
  {
   "cell_type": "code",
   "execution_count": 233,
   "metadata": {},
   "outputs": [
    {
     "data": {
      "text/plain": [
       "<matplotlib.image.AxesImage at 0x140273f50>"
      ]
     },
     "execution_count": 233,
     "metadata": {},
     "output_type": "execute_result"
    },
    {
     "data": {
      "image/png": "[encoded data removed]",
      "text/plain": [
       "<Figure size 480x480 with 1 Axes>"
      ]
     },
     "metadata": {},
     "output_type": "display_data"
    }
   ],
   "source": [
    "plt.matshow(X_test[149])"
   ]
  },
  {
   "cell_type": "code",
   "execution_count": 183,
   "metadata": {},
   "outputs": [],
   "source": [
    "\n",
    "def find_total_errs(input):\n",
    "     errors =[]\n",
    "     for x in range(input):\n",
    "          if y_test[x] != y_pred[x].argmax():\n",
    "               y = [x, y_test[x], y_pred[x].argmax()]\n",
    "               #print(x, y_test[x], y_pred[x].argmax())\n",
    "               errors.append(y)\n",
    "     print(errors)\n",
    "     return errors\n"
   ]
  },
  {
   "cell_type": "code",
   "execution_count": 184,
   "metadata": {},
   "outputs": [
    {
     "name": "stdout",
     "output_type": "stream",
     "text": [
      "[[8, 5, 6], [33, 4, 6], [63, 3, 2], [92, 9, 4], [124, 7, 4], [149, 2, 9], [193, 9, 3], [195, 3, 5], [211, 5, 7], [233, 8, 7], [241, 9, 8], [245, 3, 5], [247, 4, 6], [259, 6, 0], [290, 8, 4], [300, 4, 6], [307, 7, 9], [313, 3, 5], [318, 2, 3], [320, 9, 7], [321, 2, 7], [340, 5, 3], [352, 5, 0], [359, 9, 4], [362, 2, 7], [381, 3, 7], [435, 8, 7], [444, 2, 8], [445, 6, 0], [448, 9, 8], [468, 7, 9], [478, 5, 8], [479, 9, 3], [495, 8, 0], [502, 5, 3], [507, 3, 5], [511, 4, 8], [530, 9, 4], [531, 3, 6], [536, 2, 1], [542, 8, 2], [543, 8, 3], [551, 7, 1], [565, 4, 9], [569, 3, 5], [578, 3, 2], [582, 8, 2], [583, 2, 8], [591, 8, 3], [613, 2, 8], [619, 1, 8], [627, 9, 4], [628, 3, 9], [629, 2, 6], [659, 2, 9], [684, 7, 2], [691, 8, 4], [707, 4, 9], [717, 0, 6], [720, 5, 2], [728, 2, 8], [740, 4, 9], [760, 4, 9], [791, 5, 9], [829, 4, 8], [839, 8, 3], [844, 8, 7], [857, 5, 3], [877, 8, 2], [881, 4, 9], [882, 9, 7], [890, 3, 5], [898, 7, 2], [924, 2, 7], [938, 3, 5], [939, 2, 0], [947, 8, 9], [950, 7, 2], [951, 5, 4], [956, 1, 6], [965, 6, 0], [975, 2, 3], [982, 3, 8], [999, 9, 7], [1012, 7, 9], [1014, 6, 5], [1028, 3, 5], [1032, 5, 8], [1033, 8, 3], [1039, 7, 9], [1044, 6, 8], [1062, 3, 9], [1068, 8, 4], [1082, 5, 3], [1096, 7, 9], [1101, 8, 2], [1107, 9, 3], [1112, 4, 6], [1114, 3, 8], [1128, 3, 7], [1181, 6, 1], [1191, 0, 7], [1192, 9, 4], [1194, 7, 9], [1198, 8, 4], [1202, 8, 5], [1204, 3, 9], [1206, 7, 2], [1208, 3, 8], [1217, 9, 7], [1226, 7, 2], [1228, 9, 3], [1232, 9, 4], [1233, 5, 6], [1234, 8, 5], [1242, 4, 9], [1247, 9, 0], [1248, 8, 5], [1256, 2, 3], [1260, 7, 1], [1283, 7, 2], [1289, 5, 9], [1299, 5, 7], [1310, 3, 7], [1315, 3, 5], [1319, 8, 3], [1325, 8, 6], [1326, 7, 2], [1328, 7, 9], [1337, 2, 6], [1347, 7, 9], [1364, 8, 2], [1378, 5, 6], [1393, 5, 3], [1402, 2, 7], [1410, 2, 6], [1413, 4, 9], [1429, 9, 4], [1433, 8, 1], [1435, 9, 4], [1441, 8, 2], [1444, 6, 7], [1466, 5, 0], [1467, 5, 9], [1494, 7, 9], [1500, 7, 1], [1514, 2, 8], [1522, 7, 9], [1525, 5, 0], [1527, 1, 6], [1530, 8, 7], [1549, 4, 6], [1553, 9, 8], [1559, 9, 7], [1569, 6, 7], [1581, 7, 9], [1609, 2, 6], [1634, 4, 7], [1640, 9, 7], [1678, 2, 0], [1681, 3, 7], [1686, 8, 5], [1695, 9, 7], [1696, 2, 1], [1709, 9, 5], [1717, 8, 0], [1722, 2, 4], [1732, 9, 5], [1751, 4, 3], [1754, 7, 2], [1765, 3, 5], [1772, 7, 9], [1773, 1, 8], [1774, 8, 5], [1790, 2, 7], [1800, 6, 4], [1813, 8, 5], [1828, 3, 7], [1850, 8, 7], [1865, 4, 9], [1868, 1, 4], [1878, 8, 3], [1883, 7, 9], [1899, 8, 3], [1901, 9, 4], [1917, 5, 8], [1926, 3, 5], [1938, 4, 6], [1940, 5, 0], [1952, 9, 5], [1954, 5, 4], [1970, 5, 3], [1973, 8, 5], [1981, 6, 4], [1984, 2, 0], [2001, 5, 8], [2004, 8, 9], [2016, 7, 2], [2024, 7, 9], [2035, 5, 3], [2040, 5, 4], [2043, 4, 8], [2044, 2, 7], [2053, 4, 9], [2068, 9, 4], [2070, 7, 9], [2098, 2, 0], [2099, 8, 9], [2107, 8, 0], [2109, 3, 7], [2110, 2, 8], [2118, 6, 0], [2129, 9, 2], [2130, 4, 9], [2135, 6, 1], [2148, 4, 9], [2182, 1, 2], [2185, 0, 5], [2186, 2, 3], [2189, 9, 1], [2192, 5, 3], [2215, 6, 5], [2224, 5, 6], [2232, 9, 4], [2266, 1, 6], [2272, 8, 0], [2291, 5, 8], [2293, 9, 0], [2299, 2, 7], [2325, 7, 3], [2362, 8, 1], [2369, 5, 4], [2371, 4, 9], [2380, 9, 0], [2387, 9, 1], [2393, 8, 5], [2395, 8, 3], [2406, 9, 1], [2408, 3, 8], [2422, 6, 4], [2425, 8, 3], [2433, 2, 1], [2450, 3, 5], [2460, 5, 8], [2462, 2, 0], [2473, 1, 8], [2488, 2, 4], [2514, 4, 9], [2534, 3, 5], [2556, 5, 8], [2559, 5, 3], [2560, 3, 2], [2573, 5, 8], [2574, 5, 7], [2586, 5, 3], [2598, 8, 2], [2607, 7, 8], [2610, 2, 8], [2635, 2, 8], [2648, 9, 0], [2654, 6, 1], [2670, 5, 8], [2684, 3, 7], [2695, 7, 4], [2698, 5, 3], [2720, 9, 4], [2721, 6, 2], [2740, 9, 7], [2751, 6, 0], [2760, 9, 4], [2771, 4, 9], [2780, 2, 3], [2810, 5, 0], [2832, 5, 3], [2836, 4, 7], [2850, 5, 3], [2852, 8, 1], [2863, 9, 4], [2866, 6, 4], [2896, 8, 0], [2906, 3, 5], [2919, 5, 2], [2921, 3, 0], [2925, 5, 0], [2927, 3, 2], [2930, 5, 3], [2945, 3, 7], [2953, 3, 5], [2970, 5, 7], [2986, 5, 6], [2995, 6, 5], [3005, 9, 1], [3060, 9, 7], [3073, 1, 2], [3102, 5, 3], [3106, 2, 3], [3110, 3, 5], [3114, 4, 2], [3117, 5, 9], [3130, 6, 0], [3136, 7, 9], [3145, 5, 9], [3160, 9, 4], [3166, 7, 9], [3189, 7, 4], [3193, 3, 2], [3206, 8, 3], [3240, 9, 3], [3269, 6, 2], [3280, 2, 8], [3284, 8, 7], [3289, 8, 5], [3316, 7, 4], [3329, 7, 2], [3330, 2, 3], [3333, 7, 9], [3369, 9, 7], [3381, 3, 2], [3394, 9, 7], [3422, 6, 0], [3436, 2, 1], [3468, 5, 4], [3475, 3, 7], [3490, 4, 9], [3503, 9, 1], [3520, 6, 4], [3549, 3, 2], [3558, 5, 0], [3559, 8, 5], [3565, 5, 8], [3567, 8, 5], [3573, 7, 4], [3597, 9, 3], [3604, 7, 0], [3629, 8, 3], [3662, 8, 5], [3674, 8, 3], [3681, 2, 5], [3716, 9, 3], [3718, 4, 9], [3726, 4, 9], [3730, 7, 9], [3732, 8, 1], [3749, 6, 0], [3751, 7, 2], [3757, 8, 3], [3763, 5, 4], [3764, 0, 5], [3767, 7, 2], [3776, 5, 8], [3780, 4, 6], [3796, 2, 8], [3801, 6, 0], [3808, 7, 3], [3811, 2, 3], [3817, 2, 8], [3821, 9, 4], [3833, 8, 3], [3834, 3, 2], [3836, 7, 9], [3838, 7, 1], [3846, 6, 2], [3850, 9, 4], [3853, 6, 5], [3855, 5, 0], [3862, 2, 3], [3869, 9, 4], [3876, 2, 8], [3893, 5, 6], [3902, 5, 3], [3906, 1, 3], [3926, 9, 3], [3941, 4, 6], [3943, 3, 5], [3946, 2, 8], [3951, 8, 5], [3962, 3, 2], [3984, 9, 1], [3985, 9, 4], [3986, 2, 1], [4000, 9, 4], [4007, 7, 4], [4017, 4, 9], [4044, 3, 5], [4063, 6, 5], [4065, 0, 2], [4072, 5, 3], [4075, 8, 5], [4076, 5, 8], [4078, 9, 7], [4131, 5, 1], [4140, 8, 2], [4145, 8, 3], [4152, 5, 1], [4154, 9, 4], [4156, 2, 8], [4159, 8, 3], [4163, 9, 0], [4176, 2, 4], [4180, 2, 3], [4199, 7, 9], [4201, 1, 7], [4205, 2, 6], [4211, 6, 5], [4212, 1, 3], [4224, 9, 7], [4238, 7, 9], [4248, 2, 4], [4256, 3, 2], [4265, 4, 8], [4289, 2, 7], [4300, 5, 8], [4302, 5, 8], [4306, 3, 7], [4313, 4, 9], [4315, 5, 4], [4317, 3, 7], [4330, 5, 8], [4341, 2, 3], [4355, 5, 3], [4356, 5, 8], [4359, 5, 7], [4369, 9, 4], [4374, 5, 6], [4380, 8, 5], [4405, 9, 4], [4425, 9, 4], [4427, 2, 8], [4433, 7, 3], [4435, 3, 7], [4449, 6, 0], [4451, 2, 8], [4454, 9, 7], [4455, 8, 0], [4463, 5, 8], [4477, 0, 6], [4497, 8, 7], [4500, 9, 1], [4504, 2, 5], [4523, 8, 3], [4540, 7, 9], [4548, 5, 6], [4571, 6, 2], [4575, 4, 2], [4583, 5, 8], [4601, 8, 4], [4615, 2, 4], [4639, 8, 3], [4640, 8, 7], [4671, 8, 3], [4724, 8, 5], [4731, 8, 7], [4740, 3, 5], [4751, 4, 6], [4761, 9, 7], [4785, 3, 8], [4807, 8, 0], [4808, 3, 5], [4812, 2, 1], [4814, 6, 0], [4823, 9, 4], [4837, 7, 2], [4852, 8, 6], [4874, 9, 0], [4876, 2, 4], [4879, 8, 6], [4880, 0, 8], [4886, 7, 1], [4890, 8, 6], [4915, 5, 8], [4939, 2, 3], [4950, 2, 3], [4956, 8, 4], [4966, 7, 1], [4981, 2, 3], [4990, 3, 8], [5000, 3, 5], [5001, 9, 4], [5054, 3, 5], [5065, 8, 1], [5067, 3, 2], [5068, 4, 1], [5078, 3, 2], [5138, 8, 5], [5140, 3, 6], [5143, 3, 6], [5176, 8, 5], [5183, 8, 4], [5210, 9, 7], [5217, 2, 8], [5246, 7, 2], [5288, 8, 0], [5311, 9, 7], [5331, 1, 6], [5360, 8, 7], [5409, 4, 6], [5523, 9, 7], [5611, 8, 1], [5617, 4, 9], [5620, 7, 9], [5634, 2, 3], [5642, 1, 5], [5653, 0, 6], [5677, 4, 6], [5678, 8, 5], [5688, 7, 9], [5734, 3, 7], [5735, 5, 6], [5749, 8, 6], [5757, 9, 7], [5821, 5, 3], [5842, 4, 7], [5862, 5, 3], [5874, 5, 3], [5887, 7, 0], [5888, 4, 0], [5891, 5, 6], [5912, 3, 0], [5913, 5, 3], [5922, 5, 3], [5936, 4, 9], [5937, 5, 3], [5955, 3, 8], [5973, 3, 8], [5985, 5, 8], [6023, 3, 5], [6035, 2, 0], [6037, 4, 9], [6042, 5, 8], [6043, 5, 3], [6045, 3, 8], [6059, 3, 8], [6065, 3, 8], [6071, 9, 3], [6081, 9, 5], [6091, 9, 5], [6109, 2, 1], [6157, 9, 0], [6160, 3, 8], [6166, 9, 3], [6168, 9, 5], [6172, 9, 0], [6173, 9, 0], [6304, 8, 3], [6347, 8, 6], [6391, 2, 6], [6400, 0, 6], [6421, 3, 2], [6425, 6, 2], [6426, 0, 6], [6432, 3, 8], [6480, 2, 6], [6505, 9, 0], [6511, 3, 5], [6517, 3, 0], [6532, 0, 3], [6555, 8, 7], [6560, 9, 3], [6564, 3, 7], [6568, 9, 4], [6571, 9, 7], [6572, 1, 2], [6574, 2, 6], [6577, 7, 2], [6597, 0, 7], [6598, 5, 6], [6603, 8, 7], [6625, 8, 4], [6632, 9, 5], [6641, 8, 5], [6642, 9, 4], [6643, 0, 5], [6651, 0, 5], [6657, 8, 5], [6721, 2, 4], [6739, 3, 2], [6740, 9, 0], [6744, 2, 8], [6746, 5, 4], [6755, 8, 7], [6769, 4, 8], [6775, 5, 8], [6785, 2, 6], [6796, 2, 7], [6817, 9, 4], [6847, 6, 4], [6885, 2, 6], [6919, 9, 7], [6926, 6, 4], [6981, 5, 6], [7061, 9, 7], [7094, 8, 9], [7107, 9, 7], [7121, 8, 7], [7130, 3, 9], [7198, 8, 9], [7208, 8, 9], [7220, 8, 3], [7338, 4, 9], [7432, 7, 2], [7434, 4, 8], [7444, 8, 5], [7451, 5, 8], [7459, 9, 5], [7473, 4, 8], [7492, 2, 7], [7498, 5, 3], [7539, 2, 8], [7541, 5, 4], [7545, 8, 9], [7637, 2, 3], [7724, 2, 6], [7797, 5, 6], [7800, 3, 2], [7812, 1, 8], [7821, 3, 2], [7839, 1, 8], [7842, 5, 8], [7847, 1, 8], [7850, 5, 8], [7851, 6, 0], [7856, 1, 8], [7857, 2, 9], [7858, 3, 2], [7859, 5, 8], [7870, 5, 4], [7886, 2, 4], [7888, 5, 4], [7899, 1, 8], [7905, 3, 2], [7917, 2, 4], [7918, 5, 8], [7921, 8, 1], [7928, 1, 8], [7945, 2, 6], [7990, 1, 8], [7999, 8, 0], [8020, 1, 8], [8044, 9, 7], [8059, 2, 1], [8062, 5, 8], [8072, 5, 3], [8081, 4, 6], [8091, 2, 8], [8094, 2, 8], [8095, 4, 8], [8183, 8, 5], [8196, 6, 0], [8246, 3, 8], [8272, 3, 8], [8277, 3, 5], [8279, 8, 5], [8294, 8, 5], [8297, 8, 5], [8308, 3, 5], [8332, 9, 7], [8339, 8, 6], [8406, 4, 9], [8408, 8, 6], [8410, 8, 6], [8413, 8, 5], [8456, 8, 0], [8457, 9, 7], [8520, 4, 9], [8522, 8, 6], [8523, 9, 5], [8863, 5, 6], [9007, 3, 8], [9009, 7, 2], [9010, 2, 8], [9013, 5, 6], [9015, 7, 2], [9019, 7, 2], [9024, 7, 2], [9036, 7, 2], [9045, 7, 2], [9046, 2, 8], [9071, 1, 8], [9128, 4, 7], [9141, 7, 9], [9182, 3, 9], [9209, 2, 8], [9245, 9, 7], [9280, 8, 5], [9316, 8, 3], [9422, 5, 3], [9446, 2, 6], [9465, 5, 3], [9482, 5, 3], [9506, 8, 9], [9544, 9, 7], [9554, 9, 7], [9587, 9, 4], [9595, 2, 8], [9614, 3, 5], [9624, 3, 8], [9634, 0, 3], [9642, 9, 7], [9643, 1, 7], [9662, 3, 2], [9679, 6, 5], [9692, 9, 7], [9696, 2, 1], [9698, 6, 5], [9700, 2, 8], [9713, 9, 7], [9716, 2, 5], [9719, 5, 0], [9729, 5, 6], [9732, 8, 5], [9740, 9, 4], [9741, 9, 7], [9744, 8, 1], [9745, 4, 2], [9749, 5, 6], [9752, 2, 0], [9764, 4, 8], [9768, 2, 0], [9770, 5, 0], [9777, 5, 0], [9779, 2, 0], [9792, 4, 8], [9808, 9, 4], [9811, 2, 8], [9839, 2, 7], [9840, 3, 0], [9858, 6, 3], [9867, 2, 8], [9874, 2, 8], [9883, 5, 6], [9888, 6, 0], [9890, 9, 4], [9892, 8, 6], [9893, 2, 8], [9901, 9, 4], [9905, 3, 9], [9925, 3, 2], [9940, 6, 0], [9941, 5, 6], [9943, 3, 5], [9944, 3, 9], [9959, 8, 7], [9970, 5, 3], [9975, 3, 2], [9980, 2, 3], [9982, 5, 6], [9986, 3, 8]]\n"
     ]
    }
   ],
   "source": [
    "error = find_total_errs(X_test.shape[0])\n"
   ]
  },
  {
   "cell_type": "code",
   "execution_count": 185,
   "metadata": {},
   "outputs": [
    {
     "data": {
      "text/plain": [
       "747"
      ]
     },
     "execution_count": 185,
     "metadata": {},
     "output_type": "execute_result"
    }
   ],
   "source": [
    "len(error)"
   ]
  },
  {
   "cell_type": "markdown",
   "metadata": {},
   "source": [
    "## Model 2 with hidden layers"
   ]
  },
  {
   "cell_type": "code",
   "execution_count": 227,
   "metadata": {},
   "outputs": [
    {
     "name": "stdout",
     "output_type": "stream",
     "text": [
      "Epoch 1/5\n",
      "\u001b[1m1875/1875\u001b[0m \u001b[32m━━━━━━━━━━━━━━━━━━━━\u001b[0m\u001b[37m\u001b[0m \u001b[1m8s\u001b[0m 3ms/step - accuracy: 0.8720 - loss: 0.4356\n",
      "Epoch 2/5\n",
      "\u001b[1m1875/1875\u001b[0m \u001b[32m━━━━━━━━━━━━━━━━━━━━\u001b[0m\u001b[37m\u001b[0m \u001b[1m5s\u001b[0m 3ms/step - accuracy: 0.9663 - loss: 0.1118\n",
      "Epoch 3/5\n",
      "\u001b[1m1875/1875\u001b[0m \u001b[32m━━━━━━━━━━━━━━━━━━━━\u001b[0m\u001b[37m\u001b[0m \u001b[1m12s\u001b[0m 4ms/step - accuracy: 0.9773 - loss: 0.0732\n",
      "Epoch 4/5\n",
      "\u001b[1m1875/1875\u001b[0m \u001b[32m━━━━━━━━━━━━━━━━━━━━\u001b[0m\u001b[37m\u001b[0m \u001b[1m6s\u001b[0m 3ms/step - accuracy: 0.9817 - loss: 0.0565\n",
      "Epoch 5/5\n",
      "\u001b[1m1875/1875\u001b[0m \u001b[32m━━━━━━━━━━━━━━━━━━━━\u001b[0m\u001b[37m\u001b[0m \u001b[1m6s\u001b[0m 3ms/step - accuracy: 0.9845 - loss: 0.0452\n"
     ]
    },
    {
     "data": {
      "text/plain": [
       "<keras.src.callbacks.history.History at 0x13e865b50>"
      ]
     },
     "execution_count": 227,
     "metadata": {},
     "output_type": "execute_result"
    }
   ],
   "source": [
    "model2 = keras.Sequential(\n",
    "     [\n",
    "          keras.layers.Dense(100,input_shape=(784,),activation='relu'),\n",
    "          keras.layers.Dense(80,activation='relu'),\n",
    "          keras.layers.Dense(10,activation='softmax')\n",
    "     ]\n",
    ")\n",
    "model2.compile(\n",
    "     optimizer = 'adam',\n",
    "     loss = 'sparse_categorical_crossentropy',\n",
    "     metrics=['accuracy']\n",
    ")\n",
    "\n",
    "model2.fit(X_train_flat,y_train,epochs =5)"
   ]
  },
  {
   "cell_type": "code",
   "execution_count": 218,
   "metadata": {},
   "outputs": [
    {
     "name": "stdout",
     "output_type": "stream",
     "text": [
      "\u001b[1m313/313\u001b[0m \u001b[32m━━━━━━━━━━━━━━━━━━━━\u001b[0m\u001b[37m\u001b[0m \u001b[1m1s\u001b[0m 2ms/step\n"
     ]
    }
   ],
   "source": [
    "y_pred2 = model2.predict( X_test_flat)"
   ]
  },
  {
   "cell_type": "code",
   "execution_count": 217,
   "metadata": {},
   "outputs": [
    {
     "name": "stdout",
     "output_type": "stream",
     "text": [
      "\u001b[1m313/313\u001b[0m \u001b[32m━━━━━━━━━━━━━━━━━━━━\u001b[0m\u001b[37m\u001b[0m \u001b[1m1s\u001b[0m 3ms/step - accuracy: 0.9738 - loss: 0.0909\n"
     ]
    },
    {
     "data": {
      "text/plain": [
       "[0.0756218284368515, 0.9775999784469604]"
      ]
     },
     "execution_count": 217,
     "metadata": {},
     "output_type": "execute_result"
    }
   ],
   "source": [
    "model2.evaluate(X_test_flat,y_test)"
   ]
  },
  {
   "cell_type": "code",
   "execution_count": 219,
   "metadata": {},
   "outputs": [],
   "source": [
    "\n",
    "def find_total_errs2(input):\n",
    "     errors =[]\n",
    "     for x in range(input):\n",
    "          if y_test[x] != y_pred2[x].argmax():\n",
    "               y = [x, y_test[x], y_pred2[x].argmax()]\n",
    "               #print(x, y_test[x], y_pred[x].argmax())\n",
    "               errors.append(y)\n",
    "     print(errors)\n",
    "     return errors\n"
   ]
  },
  {
   "cell_type": "code",
   "execution_count": 220,
   "metadata": {},
   "outputs": [
    {
     "name": "stdout",
     "output_type": "stream",
     "text": [
      "[[151, 9, 8], [233, 8, 3], [247, 4, 2], [259, 6, 0], [274, 9, 3], [320, 9, 7], [321, 2, 7], [445, 6, 0], [448, 9, 8], [449, 3, 5], [495, 8, 2], [582, 8, 2], [619, 1, 8], [691, 8, 4], [720, 5, 8], [844, 8, 7], [846, 7, 9], [874, 9, 4], [877, 8, 5], [947, 8, 9], [951, 5, 7], [956, 1, 6], [965, 6, 0], [1003, 5, 3], [1014, 6, 5], [1039, 7, 2], [1112, 4, 6], [1178, 4, 0], [1182, 6, 5], [1226, 7, 2], [1232, 9, 4], [1242, 4, 9], [1247, 9, 5], [1260, 7, 1], [1299, 5, 9], [1319, 8, 3], [1328, 7, 9], [1364, 8, 2], [1378, 5, 6], [1393, 5, 3], [1414, 9, 7], [1494, 7, 9], [1496, 7, 9], [1522, 7, 9], [1527, 1, 5], [1530, 8, 7], [1549, 4, 6], [1553, 9, 5], [1609, 2, 6], [1671, 7, 3], [1681, 3, 7], [1709, 9, 3], [1717, 8, 0], [1722, 2, 3], [1754, 7, 1], [1878, 8, 3], [1901, 9, 4], [1941, 7, 2], [1952, 9, 3], [1987, 0, 9], [2004, 8, 3], [2016, 7, 2], [2024, 7, 9], [2053, 4, 9], [2070, 7, 9], [2098, 2, 0], [2109, 3, 8], [2118, 6, 4], [2129, 9, 8], [2135, 6, 1], [2185, 0, 5], [2272, 8, 0], [2293, 9, 0], [2299, 2, 8], [2308, 3, 5], [2329, 0, 2], [2369, 5, 8], [2387, 9, 1], [2414, 9, 4], [2488, 2, 4], [2573, 5, 8], [2597, 5, 3], [2607, 7, 4], [2618, 3, 5], [2635, 2, 7], [2648, 9, 0], [2654, 6, 1], [2720, 9, 4], [2810, 5, 3], [2877, 4, 7], [2896, 8, 0], [2939, 9, 5], [2952, 3, 5], [2953, 3, 5], [2979, 9, 4], [3012, 8, 9], [3023, 8, 5], [3117, 5, 9], [3251, 0, 9], [3330, 2, 8], [3384, 2, 6], [3422, 6, 0], [3503, 9, 1], [3520, 6, 4], [3549, 3, 2], [3550, 6, 5], [3558, 5, 0], [3559, 8, 5], [3567, 8, 5], [3597, 9, 3], [3681, 2, 8], [3685, 4, 9], [3749, 6, 0], [3751, 7, 2], [3757, 8, 3], [3776, 5, 8], [3780, 4, 6], [3811, 2, 3], [3838, 7, 1], [3869, 9, 4], [3893, 5, 6], [3906, 1, 3], [3926, 9, 3], [3941, 4, 2], [3985, 9, 4], [3995, 3, 5], [4065, 0, 8], [4078, 9, 3], [4176, 2, 7], [4201, 1, 7], [4224, 9, 7], [4248, 2, 8], [4255, 5, 3], [4289, 2, 8], [4294, 9, 5], [4355, 5, 3], [4369, 9, 4], [4425, 9, 4], [4497, 8, 7], [4500, 9, 1], [4511, 9, 4], [4536, 6, 5], [4571, 6, 2], [4601, 8, 4], [4635, 3, 5], [4690, 7, 2], [4807, 8, 0], [4814, 6, 4], [4823, 9, 4], [4879, 8, 6], [4880, 0, 8], [4956, 8, 4], [4966, 7, 3], [4978, 8, 7], [4990, 3, 2], [5331, 1, 6], [5457, 1, 8], [5634, 2, 3], [5642, 1, 5], [5676, 4, 3], [5749, 8, 5], [5887, 7, 0], [5936, 4, 9], [5937, 5, 3], [5955, 3, 8], [5972, 5, 3], [5973, 3, 8], [6028, 5, 3], [6045, 3, 9], [6166, 9, 3], [6172, 9, 8], [6555, 8, 9], [6571, 9, 7], [6574, 2, 6], [6597, 0, 9], [6636, 3, 8], [6651, 0, 8], [6755, 8, 9], [6783, 1, 6], [6817, 9, 4], [6847, 6, 4], [7121, 8, 9], [7434, 4, 8], [7732, 5, 8], [7800, 3, 2], [7821, 3, 2], [7823, 8, 2], [7886, 2, 4], [7921, 8, 6], [8062, 5, 6], [8094, 2, 8], [8255, 4, 5], [8311, 6, 4], [8325, 0, 6], [8353, 2, 4], [8382, 0, 2], [8408, 8, 6], [8410, 8, 6], [8456, 8, 0], [8520, 4, 9], [8522, 8, 6], [8527, 4, 9], [9009, 7, 2], [9015, 7, 2], [9019, 7, 2], [9024, 7, 2], [9280, 8, 5], [9394, 8, 5], [9587, 9, 4], [9634, 0, 2], [9679, 6, 5], [9692, 9, 7], [9729, 5, 6], [9745, 4, 2], [9749, 5, 6], [9751, 2, 0], [9768, 2, 0], [9770, 5, 0], [9779, 2, 0], [9808, 9, 4], [9839, 2, 3], [9867, 2, 8], [9892, 8, 5], [9982, 5, 6]]\n"
     ]
    }
   ],
   "source": [
    "errors2 = find_total_errs2(X_test.shape[0])"
   ]
  },
  {
   "cell_type": "code",
   "execution_count": 221,
   "metadata": {},
   "outputs": [
    {
     "data": {
      "text/plain": [
       "224"
      ]
     },
     "execution_count": 221,
     "metadata": {},
     "output_type": "execute_result"
    }
   ],
   "source": [
    "len(errors2)"
   ]
  },
  {
   "cell_type": "code",
   "execution_count": 222,
   "metadata": {},
   "outputs": [
    {
     "data": {
      "text/plain": [
       "(2, 2)"
      ]
     },
     "execution_count": 222,
     "metadata": {},
     "output_type": "execute_result"
    }
   ],
   "source": [
    "x=149\n",
    "y_test[x], y_pred2[x].argmax()"
   ]
  },
  {
   "cell_type": "code",
   "execution_count": null,
   "metadata": {},
   "outputs": [],
   "source": []
  }
 ],
 "metadata": {
  "kernelspec": {
   "display_name": "Python 3",
   "language": "python",
   "name": "python3"
  },
  "language_info": {
   "codemirror_mode": {
    "name": "ipython",
    "version": 3
   },
   "file_extension": ".py",
   "mimetype": "text/x-python",
   "name": "python",
   "nbconvert_exporter": "python",
   "pygments_lexer": "ipython3",
   "version": "3.11.5"
  }
 },
 "nbformat": 4,
 "nbformat_minor": 2
}
